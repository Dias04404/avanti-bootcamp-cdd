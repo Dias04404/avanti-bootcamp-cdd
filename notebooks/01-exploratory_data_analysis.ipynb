{
 "cells": [
  {
   "cell_type": "markdown",
   "metadata": {},
   "source": [
    "# Análise exploratória de dados"
   ]
  },
  {
   "cell_type": "code",
   "execution_count": 194,
   "metadata": {},
   "outputs": [
    {
     "name": "stdout",
     "output_type": "stream",
     "text": [
      "matplotlib                3.5.1\n",
      "matplotlib-inline         0.1.3\n",
      "Note: you may need to restart the kernel to use updated packages.\n"
     ]
    }
   ],
   "source": [
    "pip list | grep matplotlib"
   ]
  },
  {
   "cell_type": "code",
   "execution_count": 195,
   "metadata": {},
   "outputs": [
    {
     "name": "stdout",
     "output_type": "stream",
     "text": [
      "Defaulting to user installation because normal site-packages is not writeable\n",
      "Requirement already satisfied: numpy<2.0 in /home/gabriela/.local/lib/python3.10/site-packages (1.26.4)\n",
      "Note: you may need to restart the kernel to use updated packages.\n"
     ]
    }
   ],
   "source": [
    "pip install \"numpy<2.0\""
   ]
  },
  {
   "cell_type": "code",
   "execution_count": 196,
   "metadata": {},
   "outputs": [
    {
     "name": "stdout",
     "output_type": "stream",
     "text": [
      "Defaulting to user installation because normal site-packages is not writeable\n",
      "Requirement already satisfied: seaborn in /home/gabriela/.local/lib/python3.10/site-packages (0.13.2)\n",
      "Requirement already satisfied: pandas>=1.2 in /usr/local/lib/python3.10/dist-packages (from seaborn) (2.2.2)\n",
      "Requirement already satisfied: matplotlib!=3.6.1,>=3.4 in /usr/lib/python3/dist-packages (from seaborn) (3.5.1)\n",
      "Requirement already satisfied: numpy!=1.24.0,>=1.20 in /home/gabriela/.local/lib/python3.10/site-packages (from seaborn) (1.26.4)\n",
      "Requirement already satisfied: tzdata>=2022.7 in /usr/local/lib/python3.10/dist-packages (from pandas>=1.2->seaborn) (2024.1)\n",
      "Requirement already satisfied: python-dateutil>=2.8.2 in /home/gabriela/.local/lib/python3.10/site-packages (from pandas>=1.2->seaborn) (2.9.0.post0)\n",
      "Requirement already satisfied: pytz>=2020.1 in /usr/lib/python3/dist-packages (from pandas>=1.2->seaborn) (2022.1)\n",
      "Requirement already satisfied: six>=1.5 in /usr/lib/python3/dist-packages (from python-dateutil>=2.8.2->pandas>=1.2->seaborn) (1.16.0)\n",
      "Note: you may need to restart the kernel to use updated packages.\n"
     ]
    }
   ],
   "source": [
    "pip install seaborn"
   ]
  },
  {
   "cell_type": "code",
   "execution_count": 197,
   "metadata": {
    "scrolled": true
   },
   "outputs": [],
   "source": [
    "from IPython.display import display, Markdown\n",
    "import pandas as pd\n",
    "import numpy as np\n",
    "import matplotlib.pyplot as plt\n",
    "import seaborn as sns\n",
    "\n",
    "colors = [\"#e188ff\", \"#8bead7\"] \n",
    "# verde e ciano, nessa ordem.\n",
    "sns.set_theme(style=\"ticks\")\n",
    "sns.set_palette(sns.color_palette(colors))"
   ]
  },
  {
   "cell_type": "code",
   "execution_count": 198,
   "metadata": {},
   "outputs": [
    {
     "data": {
      "text/html": [
       "<div>\n",
       "<style scoped>\n",
       "    .dataframe tbody tr th:only-of-type {\n",
       "        vertical-align: middle;\n",
       "    }\n",
       "\n",
       "    .dataframe tbody tr th {\n",
       "        vertical-align: top;\n",
       "    }\n",
       "\n",
       "    .dataframe thead th {\n",
       "        text-align: right;\n",
       "    }\n",
       "</style>\n",
       "<table border=\"1\" class=\"dataframe\">\n",
       "  <thead>\n",
       "    <tr style=\"text-align: right;\">\n",
       "      <th></th>\n",
       "      <th>survived</th>\n",
       "      <th>pclass</th>\n",
       "      <th>sex</th>\n",
       "      <th>age</th>\n",
       "      <th>sibsp</th>\n",
       "      <th>parch</th>\n",
       "      <th>fare</th>\n",
       "      <th>embarked</th>\n",
       "      <th>class</th>\n",
       "      <th>who</th>\n",
       "      <th>adult_male</th>\n",
       "      <th>deck</th>\n",
       "      <th>embark_town</th>\n",
       "      <th>alive</th>\n",
       "      <th>alone</th>\n",
       "    </tr>\n",
       "  </thead>\n",
       "  <tbody>\n",
       "    <tr>\n",
       "      <th>0</th>\n",
       "      <td>0</td>\n",
       "      <td>3</td>\n",
       "      <td>male</td>\n",
       "      <td>22.0</td>\n",
       "      <td>1</td>\n",
       "      <td>0</td>\n",
       "      <td>7.2500</td>\n",
       "      <td>S</td>\n",
       "      <td>Third</td>\n",
       "      <td>man</td>\n",
       "      <td>True</td>\n",
       "      <td>NaN</td>\n",
       "      <td>Southampton</td>\n",
       "      <td>no</td>\n",
       "      <td>False</td>\n",
       "    </tr>\n",
       "    <tr>\n",
       "      <th>1</th>\n",
       "      <td>1</td>\n",
       "      <td>1</td>\n",
       "      <td>female</td>\n",
       "      <td>38.0</td>\n",
       "      <td>1</td>\n",
       "      <td>0</td>\n",
       "      <td>71.2833</td>\n",
       "      <td>C</td>\n",
       "      <td>First</td>\n",
       "      <td>woman</td>\n",
       "      <td>False</td>\n",
       "      <td>C</td>\n",
       "      <td>Cherbourg</td>\n",
       "      <td>yes</td>\n",
       "      <td>False</td>\n",
       "    </tr>\n",
       "    <tr>\n",
       "      <th>2</th>\n",
       "      <td>1</td>\n",
       "      <td>3</td>\n",
       "      <td>female</td>\n",
       "      <td>26.0</td>\n",
       "      <td>0</td>\n",
       "      <td>0</td>\n",
       "      <td>7.9250</td>\n",
       "      <td>S</td>\n",
       "      <td>Third</td>\n",
       "      <td>woman</td>\n",
       "      <td>False</td>\n",
       "      <td>NaN</td>\n",
       "      <td>Southampton</td>\n",
       "      <td>yes</td>\n",
       "      <td>True</td>\n",
       "    </tr>\n",
       "    <tr>\n",
       "      <th>3</th>\n",
       "      <td>1</td>\n",
       "      <td>1</td>\n",
       "      <td>female</td>\n",
       "      <td>35.0</td>\n",
       "      <td>1</td>\n",
       "      <td>0</td>\n",
       "      <td>53.1000</td>\n",
       "      <td>S</td>\n",
       "      <td>First</td>\n",
       "      <td>woman</td>\n",
       "      <td>False</td>\n",
       "      <td>C</td>\n",
       "      <td>Southampton</td>\n",
       "      <td>yes</td>\n",
       "      <td>False</td>\n",
       "    </tr>\n",
       "    <tr>\n",
       "      <th>4</th>\n",
       "      <td>0</td>\n",
       "      <td>3</td>\n",
       "      <td>male</td>\n",
       "      <td>35.0</td>\n",
       "      <td>0</td>\n",
       "      <td>0</td>\n",
       "      <td>8.0500</td>\n",
       "      <td>S</td>\n",
       "      <td>Third</td>\n",
       "      <td>man</td>\n",
       "      <td>True</td>\n",
       "      <td>NaN</td>\n",
       "      <td>Southampton</td>\n",
       "      <td>no</td>\n",
       "      <td>True</td>\n",
       "    </tr>\n",
       "  </tbody>\n",
       "</table>\n",
       "</div>"
      ],
      "text/plain": [
       "   survived  pclass     sex   age  sibsp  parch     fare embarked  class  \\\n",
       "0         0       3    male  22.0      1      0   7.2500        S  Third   \n",
       "1         1       1  female  38.0      1      0  71.2833        C  First   \n",
       "2         1       3  female  26.0      0      0   7.9250        S  Third   \n",
       "3         1       1  female  35.0      1      0  53.1000        S  First   \n",
       "4         0       3    male  35.0      0      0   8.0500        S  Third   \n",
       "\n",
       "     who  adult_male deck  embark_town alive  alone  \n",
       "0    man        True  NaN  Southampton    no  False  \n",
       "1  woman       False    C    Cherbourg   yes  False  \n",
       "2  woman       False  NaN  Southampton   yes   True  \n",
       "3  woman       False    C  Southampton   yes  False  \n",
       "4    man        True  NaN  Southampton    no   True  "
      ]
     },
     "execution_count": 198,
     "metadata": {},
     "output_type": "execute_result"
    }
   ],
   "source": [
    "#importando conjunto de dados:\n",
    "df = pd.read_csv('../data/raw/data.csv')\n",
    "df.head()"
   ]
  },
  {
   "cell_type": "markdown",
   "metadata": {},
   "source": [
    "## 1. Descrição dos Dados\n"
   ]
  },
  {
   "cell_type": "markdown",
   "metadata": {
    "jp-MarkdownHeadingCollapsed": true
   },
   "source": [
    "O conjunto de dados Titanic relaciona as informações dos passageiros a bordo do famoso navio, naufragado em 1909. A observação desse dataset permite identificar padrões ao analisar quais fatores mais impactaram as taxas de sobrevivência, levando a insights sobre segurança em embarcações como essa.  \n",
    "\n",
    "Variáveis: 15 variáveis sendo 10 qualitativas e 5 quantitativas.\n"
   ]
  },
  {
   "cell_type": "code",
   "execution_count": 199,
   "metadata": {},
   "outputs": [],
   "source": [
    "# Dicionários de Dados:\n",
    "dicionario = pd.DataFrame  ( [\n",
    "    \n",
    "    {\n",
    "        \"variavel\": \"survived\",\n",
    "        \"descrição\": \"Se a pessoa sobreviveu ou não\",\n",
    "        \"tipo\": \"qualitativo\",\n",
    "        \"subtipo\": \"nominal\",\n",
    "    }, {\n",
    "        \"variavel\": \"pclass\",\n",
    "        \"descrição\": \"CLasse da passagem (1,2,3)\",\n",
    "        \"tipo\": \"qualitativo\",\n",
    "        \"subtipo\": \"ordinal\",\n",
    "    }, {\n",
    "        \"variavel\": \"sex\",\n",
    "        \"descrição\": \"Gênero do passageiro\",\n",
    "        \"tipo\": \"qualitativo\",\n",
    "        \"subtipo\": \"nominal\",\n",
    "    }, {\n",
    "        \"variavel\": \"age\",\n",
    "        \"descrição\": \"Idade do passageiro\",\n",
    "        \"tipo\": \"quantitativo\",\n",
    "        \"subtipo\": \"contínua\",\n",
    "    }, {\n",
    "        \"variavel\": \"sibsp\",\n",
    "        \"descrição\": \"Se o passageiro possui irmãos/cônjuges a bordo\",\n",
    "        \"tipo\": \"quantitativo\",\n",
    "        \"subtipo\": \"discreto\",\n",
    "    }, {\n",
    "        \"variavel\": \"parch\",\n",
    "        \"descrição\": \"Se o passageiro possui pais/filhos a bordo\",\n",
    "        \"tipo\": \"quantitativo\",\n",
    "        \"subtipo\": \"discreto\",\n",
    "    }, {\n",
    "        \"variavel\": \"fare\",\n",
    "        \"descrição\": \"Valor da passagem\",\n",
    "        \"tipo\": \"quantitativo\",\n",
    "        \"subtipo\": \"contínuo\",\n",
    "    }, {\n",
    "        \"variavel\": \"embarked\",\n",
    "        \"descrição\": \"Porto de embarque (C, Q, S)\",\n",
    "        \"tipo\": \"qualitativo\",\n",
    "        \"subtipo\": \"nominal\",\n",
    "    }, {\n",
    "        \"variavel\": \"class\",\n",
    "        \"descrição\": \"Classe do passageiro (1,2,3)\",\n",
    "        \"tipo\": \"qualitativo\",\n",
    "        \"subtipo\": \"ordinal\",\n",
    "    }, {\n",
    "        \"variavel\": \"who\",\n",
    "        \"descrição\": \"Perfil do passageiro\",\n",
    "        \"tipo\": \"qualitativo\",\n",
    "        \"subtipo\": \"nominal\",\n",
    "    }, {\n",
    "        \"variavel\": \"adult_male\",\n",
    "        \"descrição\": \"Se é um homem adulto\",\n",
    "        \"tipo\": \"qualitativo\",\n",
    "        \"subtipo\": \"nominal\",\n",
    "    }, {\n",
    "        \"variavel\": \"deck\",\n",
    "        \"descrição\": \"Qual cabine o passageiro está hospedado(A,B,C,D,E,F,G)\",\n",
    "        \"tipo\": \"qualitativo\",\n",
    "        \"subtipo\": \"ordinal\",\n",
    "    }, {\n",
    "        \"variavel\": \"embark_town\",\n",
    "        \"descrição\": \"Cidade de embarque\",\n",
    "        \"tipo\": \"qualitativo\",\n",
    "        \"subtipo\": \"nominal\",\n",
    "    }, {\n",
    "        \"variavel\": \"alive\",\n",
    "        \"descrição\": \"Se a pessoa sobreviveu ou não\",\n",
    "        \"tipo\": \"qualitativo\",\n",
    "        \"subtipo\": \"nominal\",\n",
    "    }, {\n",
    "        \"variavel\": \"alone\",\n",
    "        \"descrição\": \"Se a pessoa está só ou não\",\n",
    "        \"tipo\": \"qualitativo\",\n",
    "        \"subtipo\": \"nominal\",\n",
    "    } \n",
    "\n",
    "\n",
    "] )"
   ]
  },
  {
   "cell_type": "code",
   "execution_count": 200,
   "metadata": {},
   "outputs": [],
   "source": [
    "dicionario.to_csv(\"../data/external/dictionary.csv\", index=False)"
   ]
  },
  {
   "cell_type": "code",
   "execution_count": 201,
   "metadata": {},
   "outputs": [
    {
     "data": {
      "text/html": [
       "<div>\n",
       "<style scoped>\n",
       "    .dataframe tbody tr th:only-of-type {\n",
       "        vertical-align: middle;\n",
       "    }\n",
       "\n",
       "    .dataframe tbody tr th {\n",
       "        vertical-align: top;\n",
       "    }\n",
       "\n",
       "    .dataframe thead th {\n",
       "        text-align: right;\n",
       "    }\n",
       "</style>\n",
       "<table border=\"1\" class=\"dataframe\">\n",
       "  <thead>\n",
       "    <tr style=\"text-align: right;\">\n",
       "      <th></th>\n",
       "      <th>variavel</th>\n",
       "      <th>descrição</th>\n",
       "      <th>tipo</th>\n",
       "      <th>subtipo</th>\n",
       "    </tr>\n",
       "  </thead>\n",
       "  <tbody>\n",
       "    <tr>\n",
       "      <th>0</th>\n",
       "      <td>survived</td>\n",
       "      <td>Se a pessoa sobreviveu ou não</td>\n",
       "      <td>qualitativo</td>\n",
       "      <td>nominal</td>\n",
       "    </tr>\n",
       "    <tr>\n",
       "      <th>1</th>\n",
       "      <td>pclass</td>\n",
       "      <td>CLasse da passagem (1,2,3)</td>\n",
       "      <td>qualitativo</td>\n",
       "      <td>ordinal</td>\n",
       "    </tr>\n",
       "    <tr>\n",
       "      <th>2</th>\n",
       "      <td>sex</td>\n",
       "      <td>Gênero do passageiro</td>\n",
       "      <td>qualitativo</td>\n",
       "      <td>nominal</td>\n",
       "    </tr>\n",
       "    <tr>\n",
       "      <th>3</th>\n",
       "      <td>age</td>\n",
       "      <td>Idade do passageiro</td>\n",
       "      <td>quantitativo</td>\n",
       "      <td>contínua</td>\n",
       "    </tr>\n",
       "    <tr>\n",
       "      <th>4</th>\n",
       "      <td>sibsp</td>\n",
       "      <td>Se o passageiro possui irmãos/cônjuges a bordo</td>\n",
       "      <td>quantitativo</td>\n",
       "      <td>discreto</td>\n",
       "    </tr>\n",
       "    <tr>\n",
       "      <th>5</th>\n",
       "      <td>parch</td>\n",
       "      <td>Se o passageiro possui pais/filhos a bordo</td>\n",
       "      <td>quantitativo</td>\n",
       "      <td>discreto</td>\n",
       "    </tr>\n",
       "    <tr>\n",
       "      <th>6</th>\n",
       "      <td>fare</td>\n",
       "      <td>Valor da passagem</td>\n",
       "      <td>quantitativo</td>\n",
       "      <td>contínuo</td>\n",
       "    </tr>\n",
       "    <tr>\n",
       "      <th>7</th>\n",
       "      <td>embarked</td>\n",
       "      <td>Porto de embarque (C, Q, S)</td>\n",
       "      <td>qualitativo</td>\n",
       "      <td>nominal</td>\n",
       "    </tr>\n",
       "    <tr>\n",
       "      <th>8</th>\n",
       "      <td>class</td>\n",
       "      <td>Classe do passageiro (1,2,3)</td>\n",
       "      <td>qualitativo</td>\n",
       "      <td>ordinal</td>\n",
       "    </tr>\n",
       "    <tr>\n",
       "      <th>9</th>\n",
       "      <td>who</td>\n",
       "      <td>Perfil do passageiro</td>\n",
       "      <td>qualitativo</td>\n",
       "      <td>nominal</td>\n",
       "    </tr>\n",
       "    <tr>\n",
       "      <th>10</th>\n",
       "      <td>adult_male</td>\n",
       "      <td>Se é um homem adulto</td>\n",
       "      <td>qualitativo</td>\n",
       "      <td>nominal</td>\n",
       "    </tr>\n",
       "    <tr>\n",
       "      <th>11</th>\n",
       "      <td>deck</td>\n",
       "      <td>Qual cabine o passageiro está hospedado(A,B,C,...</td>\n",
       "      <td>qualitativo</td>\n",
       "      <td>ordinal</td>\n",
       "    </tr>\n",
       "    <tr>\n",
       "      <th>12</th>\n",
       "      <td>embark_town</td>\n",
       "      <td>Cidade de embarque</td>\n",
       "      <td>qualitativo</td>\n",
       "      <td>nominal</td>\n",
       "    </tr>\n",
       "    <tr>\n",
       "      <th>13</th>\n",
       "      <td>alive</td>\n",
       "      <td>Se a pessoa sobreviveu ou não</td>\n",
       "      <td>qualitativo</td>\n",
       "      <td>nominal</td>\n",
       "    </tr>\n",
       "    <tr>\n",
       "      <th>14</th>\n",
       "      <td>alone</td>\n",
       "      <td>Se a pessoa está só ou não</td>\n",
       "      <td>qualitativo</td>\n",
       "      <td>nominal</td>\n",
       "    </tr>\n",
       "  </tbody>\n",
       "</table>\n",
       "</div>"
      ],
      "text/plain": [
       "       variavel                                          descrição  \\\n",
       "0      survived                      Se a pessoa sobreviveu ou não   \n",
       "1        pclass                         CLasse da passagem (1,2,3)   \n",
       "2           sex                               Gênero do passageiro   \n",
       "3           age                                Idade do passageiro   \n",
       "4         sibsp     Se o passageiro possui irmãos/cônjuges a bordo   \n",
       "5         parch         Se o passageiro possui pais/filhos a bordo   \n",
       "6          fare                                  Valor da passagem   \n",
       "7      embarked                        Porto de embarque (C, Q, S)   \n",
       "8         class                       Classe do passageiro (1,2,3)   \n",
       "9           who                               Perfil do passageiro   \n",
       "10   adult_male                               Se é um homem adulto   \n",
       "11         deck  Qual cabine o passageiro está hospedado(A,B,C,...   \n",
       "12  embark_town                                 Cidade de embarque   \n",
       "13        alive                      Se a pessoa sobreviveu ou não   \n",
       "14        alone                         Se a pessoa está só ou não   \n",
       "\n",
       "            tipo   subtipo  \n",
       "0    qualitativo   nominal  \n",
       "1    qualitativo   ordinal  \n",
       "2    qualitativo   nominal  \n",
       "3   quantitativo  contínua  \n",
       "4   quantitativo  discreto  \n",
       "5   quantitativo  discreto  \n",
       "6   quantitativo  contínuo  \n",
       "7    qualitativo   nominal  \n",
       "8    qualitativo   ordinal  \n",
       "9    qualitativo   nominal  \n",
       "10   qualitativo   nominal  \n",
       "11   qualitativo   ordinal  \n",
       "12   qualitativo   nominal  \n",
       "13   qualitativo   nominal  \n",
       "14   qualitativo   nominal  "
      ]
     },
     "execution_count": 201,
     "metadata": {},
     "output_type": "execute_result"
    }
   ],
   "source": [
    "dicionario"
   ]
  },
  {
   "cell_type": "code",
   "execution_count": 202,
   "metadata": {},
   "outputs": [
    {
     "data": {
      "text/plain": [
       "survived         0\n",
       "pclass           0\n",
       "sex              0\n",
       "age            177\n",
       "sibsp            0\n",
       "parch            0\n",
       "fare             0\n",
       "embarked         2\n",
       "class            0\n",
       "who              0\n",
       "adult_male       0\n",
       "deck           688\n",
       "embark_town      2\n",
       "alive            0\n",
       "alone            0\n",
       "dtype: int64"
      ]
     },
     "execution_count": 202,
     "metadata": {},
     "output_type": "execute_result"
    }
   ],
   "source": [
    "df.isnull().sum()"
   ]
  },
  {
   "cell_type": "code",
   "execution_count": 203,
   "metadata": {},
   "outputs": [
    {
     "name": "stdout",
     "output_type": "stream",
     "text": [
      "<class 'pandas.core.frame.DataFrame'>\n",
      "RangeIndex: 891 entries, 0 to 890\n",
      "Data columns (total 15 columns):\n",
      " #   Column       Non-Null Count  Dtype  \n",
      "---  ------       --------------  -----  \n",
      " 0   survived     891 non-null    int64  \n",
      " 1   pclass       891 non-null    int64  \n",
      " 2   sex          891 non-null    object \n",
      " 3   age          714 non-null    float64\n",
      " 4   sibsp        891 non-null    int64  \n",
      " 5   parch        891 non-null    int64  \n",
      " 6   fare         891 non-null    float64\n",
      " 7   embarked     889 non-null    object \n",
      " 8   class        891 non-null    object \n",
      " 9   who          891 non-null    object \n",
      " 10  adult_male   891 non-null    bool   \n",
      " 11  deck         203 non-null    object \n",
      " 12  embark_town  889 non-null    object \n",
      " 13  alive        891 non-null    object \n",
      " 14  alone        891 non-null    bool   \n",
      "dtypes: bool(2), float64(2), int64(4), object(7)\n",
      "memory usage: 92.4+ KB\n"
     ]
    }
   ],
   "source": [
    "df.info()"
   ]
  },
  {
   "cell_type": "markdown",
   "metadata": {},
   "source": [
    "Em 891 linhas, temos:\n",
    "\n",
    "Valores faltantes: 688 em 'deck' e 177 em 'age'.\n",
    "\n",
    "Das 5 variáveis quantitativas 3 são discretas e 2 nominal.\n",
    "Das 10 variáves qualitativas 8 são nominais e 2 ordinais."
   ]
  },
  {
   "cell_type": "markdown",
   "metadata": {},
   "source": [
    "## 2. Perguntas de partida e hipóteses"
   ]
  },
  {
   "cell_type": "markdown",
   "metadata": {},
   "source": [
    "Inicialmente, ao observar o Data Set podemos levantar algumas perguntas de partida como:\n",
    "\n",
    "- Existem dados faltantes? Se sim, quais?\n",
    "- Qual a distribuição dos dados?\n",
    "- Qual a passagem mais cara? E a mais barata?\n",
    "- Existe uma relação entre a classe da passagem e a sobrevivência dos passsageiros?\n",
    "- Qual cidade pagou mais barato no ticket de viagem?\n",
    "- Quais fatores influenciaram o valor da passagem?\n",
    "\n"
   ]
  },
  {
   "cell_type": "markdown",
   "metadata": {},
   "source": [
    "Levantando hipóteses para essas pergunts, como:\n",
    "\n",
    "- A passagem mais cara é aquela para a primeira classe que sai do porto mais distante.\n",
    "- Em tragédias como essa percebemos a influência da desigualdade social, especialmente nessa época. Espera-se então que os passageiros em melhor classe tenham maior chance de sobrevivência. Outro fator influente é o aspecto cultural do século XIX de priorizar o resgate de mulheres e crianças.\n",
    "- A última da rota e mais próxima do destino final da embarcação.\n",
    "- Supõe-se que fatores como: \"Deck\", \"passenger class\", \"age\", \"embarked town\" e \"class\" influenciem nesse valor."
   ]
  },
  {
   "cell_type": "markdown",
   "metadata": {},
   "source": [
    "### Dados faltantes"
   ]
  },
  {
   "cell_type": "code",
   "execution_count": 204,
   "metadata": {},
   "outputs": [
    {
     "data": {
      "text/plain": [
       "age            177\n",
       "embarked         2\n",
       "deck           688\n",
       "embark_town      2\n",
       "dtype: int64"
      ]
     },
     "metadata": {},
     "output_type": "display_data"
    },
    {
     "data": {
      "text/plain": [
       "<IPython.core.display.Markdown object>"
      ]
     },
     "metadata": {},
     "output_type": "display_data"
    },
    {
     "data": {
      "text/html": [
       "<div>\n",
       "<style scoped>\n",
       "    .dataframe tbody tr th:only-of-type {\n",
       "        vertical-align: middle;\n",
       "    }\n",
       "\n",
       "    .dataframe tbody tr th {\n",
       "        vertical-align: top;\n",
       "    }\n",
       "\n",
       "    .dataframe thead th {\n",
       "        text-align: right;\n",
       "    }\n",
       "</style>\n",
       "<table border=\"1\" class=\"dataframe\">\n",
       "  <thead>\n",
       "    <tr style=\"text-align: right;\">\n",
       "      <th></th>\n",
       "      <th>survived</th>\n",
       "      <th>pclass</th>\n",
       "      <th>age</th>\n",
       "      <th>sibsp</th>\n",
       "      <th>parch</th>\n",
       "      <th>fare</th>\n",
       "    </tr>\n",
       "  </thead>\n",
       "  <tbody>\n",
       "    <tr>\n",
       "      <th>count</th>\n",
       "      <td>182.000000</td>\n",
       "      <td>182.000000</td>\n",
       "      <td>182.000000</td>\n",
       "      <td>182.000000</td>\n",
       "      <td>182.000000</td>\n",
       "      <td>182.000000</td>\n",
       "    </tr>\n",
       "    <tr>\n",
       "      <th>mean</th>\n",
       "      <td>0.675824</td>\n",
       "      <td>1.192308</td>\n",
       "      <td>35.623187</td>\n",
       "      <td>0.467033</td>\n",
       "      <td>0.478022</td>\n",
       "      <td>78.919735</td>\n",
       "    </tr>\n",
       "    <tr>\n",
       "      <th>std</th>\n",
       "      <td>0.469357</td>\n",
       "      <td>0.516411</td>\n",
       "      <td>15.671615</td>\n",
       "      <td>0.645007</td>\n",
       "      <td>0.755869</td>\n",
       "      <td>76.490774</td>\n",
       "    </tr>\n",
       "    <tr>\n",
       "      <th>min</th>\n",
       "      <td>0.000000</td>\n",
       "      <td>1.000000</td>\n",
       "      <td>0.920000</td>\n",
       "      <td>0.000000</td>\n",
       "      <td>0.000000</td>\n",
       "      <td>0.000000</td>\n",
       "    </tr>\n",
       "    <tr>\n",
       "      <th>25%</th>\n",
       "      <td>0.000000</td>\n",
       "      <td>1.000000</td>\n",
       "      <td>24.000000</td>\n",
       "      <td>0.000000</td>\n",
       "      <td>0.000000</td>\n",
       "      <td>29.700000</td>\n",
       "    </tr>\n",
       "    <tr>\n",
       "      <th>50%</th>\n",
       "      <td>1.000000</td>\n",
       "      <td>1.000000</td>\n",
       "      <td>36.000000</td>\n",
       "      <td>0.000000</td>\n",
       "      <td>0.000000</td>\n",
       "      <td>57.000000</td>\n",
       "    </tr>\n",
       "    <tr>\n",
       "      <th>75%</th>\n",
       "      <td>1.000000</td>\n",
       "      <td>1.000000</td>\n",
       "      <td>47.750000</td>\n",
       "      <td>1.000000</td>\n",
       "      <td>1.000000</td>\n",
       "      <td>90.000000</td>\n",
       "    </tr>\n",
       "    <tr>\n",
       "      <th>max</th>\n",
       "      <td>1.000000</td>\n",
       "      <td>3.000000</td>\n",
       "      <td>80.000000</td>\n",
       "      <td>3.000000</td>\n",
       "      <td>4.000000</td>\n",
       "      <td>512.329200</td>\n",
       "    </tr>\n",
       "  </tbody>\n",
       "</table>\n",
       "</div>"
      ],
      "text/plain": [
       "         survived      pclass         age       sibsp       parch        fare\n",
       "count  182.000000  182.000000  182.000000  182.000000  182.000000  182.000000\n",
       "mean     0.675824    1.192308   35.623187    0.467033    0.478022   78.919735\n",
       "std      0.469357    0.516411   15.671615    0.645007    0.755869   76.490774\n",
       "min      0.000000    1.000000    0.920000    0.000000    0.000000    0.000000\n",
       "25%      0.000000    1.000000   24.000000    0.000000    0.000000   29.700000\n",
       "50%      1.000000    1.000000   36.000000    0.000000    0.000000   57.000000\n",
       "75%      1.000000    1.000000   47.750000    1.000000    1.000000   90.000000\n",
       "max      1.000000    3.000000   80.000000    3.000000    4.000000  512.329200"
      ]
     },
     "execution_count": 204,
     "metadata": {},
     "output_type": "execute_result"
    }
   ],
   "source": [
    "number_b = df.isnull().sum().loc[lambda x: x > 0]\n",
    "number_c = df.isnull().any(axis=1).sum()\n",
    "\n",
    "display(number_b)\n",
    "display(Markdown(\n",
    "))\n",
    "\n",
    "df.dropna(inplace=True)\n",
    "df.describe()"
   ]
  },
  {
   "cell_type": "markdown",
   "metadata": {},
   "source": [
    "Assim podemos obervar que temos um total de 869 dados faltantes, principalmente na variável \"deck\", tornando pouco precisas as análises em volta desse parêmetro. Outras variáveis que sofrem com a presença de dados faltantes são: \"age\", \"embarked\" e \"embarked town\"."
   ]
  },
  {
   "cell_type": "markdown",
   "metadata": {},
   "source": [
    "### Visão Geral"
   ]
  },
  {
   "cell_type": "code",
   "execution_count": 205,
   "metadata": {},
   "outputs": [
    {
     "data": {
      "text/html": [
       "<div>\n",
       "<style scoped>\n",
       "    .dataframe tbody tr th:only-of-type {\n",
       "        vertical-align: middle;\n",
       "    }\n",
       "\n",
       "    .dataframe tbody tr th {\n",
       "        vertical-align: top;\n",
       "    }\n",
       "\n",
       "    .dataframe thead th {\n",
       "        text-align: right;\n",
       "    }\n",
       "</style>\n",
       "<table border=\"1\" class=\"dataframe\">\n",
       "  <thead>\n",
       "    <tr style=\"text-align: right;\">\n",
       "      <th></th>\n",
       "      <th>survived</th>\n",
       "      <th>pclass</th>\n",
       "      <th>age</th>\n",
       "      <th>sibsp</th>\n",
       "      <th>parch</th>\n",
       "      <th>fare</th>\n",
       "    </tr>\n",
       "  </thead>\n",
       "  <tbody>\n",
       "    <tr>\n",
       "      <th>count</th>\n",
       "      <td>182.000000</td>\n",
       "      <td>182.000000</td>\n",
       "      <td>182.000000</td>\n",
       "      <td>182.000000</td>\n",
       "      <td>182.000000</td>\n",
       "      <td>182.000000</td>\n",
       "    </tr>\n",
       "    <tr>\n",
       "      <th>mean</th>\n",
       "      <td>0.675824</td>\n",
       "      <td>1.192308</td>\n",
       "      <td>35.623187</td>\n",
       "      <td>0.467033</td>\n",
       "      <td>0.478022</td>\n",
       "      <td>78.919735</td>\n",
       "    </tr>\n",
       "    <tr>\n",
       "      <th>std</th>\n",
       "      <td>0.469357</td>\n",
       "      <td>0.516411</td>\n",
       "      <td>15.671615</td>\n",
       "      <td>0.645007</td>\n",
       "      <td>0.755869</td>\n",
       "      <td>76.490774</td>\n",
       "    </tr>\n",
       "    <tr>\n",
       "      <th>min</th>\n",
       "      <td>0.000000</td>\n",
       "      <td>1.000000</td>\n",
       "      <td>0.920000</td>\n",
       "      <td>0.000000</td>\n",
       "      <td>0.000000</td>\n",
       "      <td>0.000000</td>\n",
       "    </tr>\n",
       "    <tr>\n",
       "      <th>25%</th>\n",
       "      <td>0.000000</td>\n",
       "      <td>1.000000</td>\n",
       "      <td>24.000000</td>\n",
       "      <td>0.000000</td>\n",
       "      <td>0.000000</td>\n",
       "      <td>29.700000</td>\n",
       "    </tr>\n",
       "    <tr>\n",
       "      <th>50%</th>\n",
       "      <td>1.000000</td>\n",
       "      <td>1.000000</td>\n",
       "      <td>36.000000</td>\n",
       "      <td>0.000000</td>\n",
       "      <td>0.000000</td>\n",
       "      <td>57.000000</td>\n",
       "    </tr>\n",
       "    <tr>\n",
       "      <th>75%</th>\n",
       "      <td>1.000000</td>\n",
       "      <td>1.000000</td>\n",
       "      <td>47.750000</td>\n",
       "      <td>1.000000</td>\n",
       "      <td>1.000000</td>\n",
       "      <td>90.000000</td>\n",
       "    </tr>\n",
       "    <tr>\n",
       "      <th>max</th>\n",
       "      <td>1.000000</td>\n",
       "      <td>3.000000</td>\n",
       "      <td>80.000000</td>\n",
       "      <td>3.000000</td>\n",
       "      <td>4.000000</td>\n",
       "      <td>512.329200</td>\n",
       "    </tr>\n",
       "  </tbody>\n",
       "</table>\n",
       "</div>"
      ],
      "text/plain": [
       "         survived      pclass         age       sibsp       parch        fare\n",
       "count  182.000000  182.000000  182.000000  182.000000  182.000000  182.000000\n",
       "mean     0.675824    1.192308   35.623187    0.467033    0.478022   78.919735\n",
       "std      0.469357    0.516411   15.671615    0.645007    0.755869   76.490774\n",
       "min      0.000000    1.000000    0.920000    0.000000    0.000000    0.000000\n",
       "25%      0.000000    1.000000   24.000000    0.000000    0.000000   29.700000\n",
       "50%      1.000000    1.000000   36.000000    0.000000    0.000000   57.000000\n",
       "75%      1.000000    1.000000   47.750000    1.000000    1.000000   90.000000\n",
       "max      1.000000    3.000000   80.000000    3.000000    4.000000  512.329200"
      ]
     },
     "execution_count": 205,
     "metadata": {},
     "output_type": "execute_result"
    }
   ],
   "source": [
    "df.describe()"
   ]
  },
  {
   "cell_type": "markdown",
   "metadata": {},
   "source": [
    "Algumas conclusões podem ser tiradas:\n",
    "\n",
    "- Existem 7 classificações para \"deck\" e o deck \"C\" é o mais comum.\n",
    "- Existem 3 portos de embarcação e 3 possíveis tipos de passagem.\n",
    "- A variável \"age\" não é um parâmetro confiável para análise, tendo em vista a grande quantidade de dados faltantes.\n",
    "- A cidade onde mais embarcaram passageiros foi \"Southampton\".\n",
    "- A média de passagem foi $78.9197. \n",
    "- A passagem mais cara foi 512,329200 enquanto a mais barata foi de graça.\n",
    "- A maior parte dos passageiros estava na primeira classe. \n",
    "- A maior parte dos tripulante sobreviveram, 123."
   ]
  },
  {
   "cell_type": "markdown",
   "metadata": {
    "jp-MarkdownHeadingCollapsed": true
   },
   "source": [
    "#### Informações extras:"
   ]
  },
  {
   "cell_type": "code",
   "execution_count": 206,
   "metadata": {},
   "outputs": [
    {
     "data": {
      "text/plain": [
       "adult_male\n",
       "False    95\n",
       "True     87\n",
       "Name: count, dtype: int64"
      ]
     },
     "execution_count": 206,
     "metadata": {},
     "output_type": "execute_result"
    }
   ],
   "source": [
    "adult_man = df[\"adult_male\"].value_counts()\n",
    "adult_man"
   ]
  },
  {
   "cell_type": "code",
   "execution_count": 207,
   "metadata": {},
   "outputs": [
    {
     "data": {
      "text/plain": [
       "pclass\n",
       "1    157\n",
       "2     15\n",
       "3     10\n",
       "Name: count, dtype: int64"
      ]
     },
     "execution_count": 207,
     "metadata": {},
     "output_type": "execute_result"
    }
   ],
   "source": [
    "pass_class = df[\"pclass\"].value_counts()\n",
    "pass_class"
   ]
  },
  {
   "cell_type": "code",
   "execution_count": 208,
   "metadata": {},
   "outputs": [
    {
     "data": {
      "text/plain": [
       "survived\n",
       "1    123\n",
       "0     59\n",
       "Name: count, dtype: int64"
      ]
     },
     "execution_count": 208,
     "metadata": {},
     "output_type": "execute_result"
    }
   ],
   "source": [
    "survival = df[\"survived\"].value_counts()\n",
    "survival"
   ]
  },
  {
   "cell_type": "markdown",
   "metadata": {},
   "source": [
    "- Tinham 182 passageiros\n",
    "- 123 passageiros sobreviveram = 67,58% de sobrevivência\n",
    "- 87 dos passageiros eram homens adultos, representando 47,81% da amostra"
   ]
  },
  {
   "cell_type": "markdown",
   "metadata": {},
   "source": [
    "### Tipo da passagem"
   ]
  },
  {
   "cell_type": "code",
   "execution_count": 213,
   "metadata": {},
   "outputs": [
    {
     "data": {
      "image/png": "[encoded data removed]",
      "text/plain": [
       "<Figure size 1296x360 with 1 Axes>"
      ]
     },
     "metadata": {},
     "output_type": "display_data"
    }
   ],
   "source": [
    "# Distribuição por tipo da passagem\n",
    "plt.figure(figsize=(18,5))\n",
    "sns.countplot(x='class', hue='sex', data=df)\n",
    "plt.xlabel('Classe da passagem')\n",
    "plt.ylabel('Contagem de passageiros')\n",
    "plt.title('Distribuição de passageiros por classe', fontweight='bold')\n",
    "plt.legend(title='Tipo', labels=['Homem','Mulher','Criança'])\n",
    "plt.grid()\n",
    "\n",
    "plt.show()"
   ]
  },
  {
   "cell_type": "markdown",
   "metadata": {},
   "source": [
    "#### Influência da cidade de embarque no valor do ticket"
   ]
  },
  {
   "cell_type": "code",
   "execution_count": 214,
   "metadata": {},
   "outputs": [
    {
     "data": {
      "image/png": "[encoded data removed]",
      "text/plain": [
       "<Figure size 1296x360 with 1 Axes>"
      ]
     },
     "metadata": {},
     "output_type": "display_data"
    }
   ],
   "source": [
    "# Relação entre embark_town e fare\n",
    "plt.figure(figsize=(18,5))\n",
    "sns.countplot(x='embark_town', hue='fare', data=df)\n",
    "plt.xlabel('Cidade de Embarque')\n",
    "plt.ylabel('Tarifa')\n",
    "plt.title('Distribuição da Tarifa em relação a Cidade de Embarque', fontweight='bold')\n",
    "plt.grid()\n",
    "\n",
    "plt.show()"
   ]
  },
  {
   "cell_type": "markdown",
   "metadata": {},
   "source": [
    "- Os tripulantes de Cherbourg pagaram as tarifas mais altas, indicando que muitos passageiros dessa cidade estavam nas classes elevadas.\n",
    "- Poucos passageiros embarcaram em Queenstown, dificultando análises complexas relacionando essa cidade.\n",
    "- A média das passagens de Southampton foi mais barata.\n"
   ]
  },
  {
   "cell_type": "code",
   "execution_count": 216,
   "metadata": {},
   "outputs": [
    {
     "data": {
      "image/png": "[encoded data removed]",
      "text/plain": [
       "<Figure size 1296x360 with 1 Axes>"
      ]
     },
     "metadata": {},
     "output_type": "display_data"
    }
   ],
   "source": [
    "# Relação entre valor da passagem e sobrevivência\n",
    "\n",
    "plt.figure(figsize=(18,5))\n",
    "sns.boxplot(x='survived', y='fare', data=df)\n",
    "plt.xlabel('Sobreviveu')\n",
    "plt.ylabel('Tarifa')\n",
    "plt.legend(title='Sobreviveu', labels=['Yes','No'])\n",
    "plt.title('Distribuição da Tarifa em Relação à Sobrevivência', fontweight='bold')\n",
    "plt.grid()\n",
    "\n",
    "plt.show()"
   ]
  },
  {
   "cell_type": "markdown",
   "metadata": {},
   "source": [
    "- A mediana do valor da tarifa dos passageiros que sobreviveram foi mais alta, confirmando que a taxa de embarque e a classe da passagem influenciaram favoravelmente a sobrevivência.\n",
    "- Mesmo passageiros que pagaram valores elevados também foram vítimas da tragédia."
   ]
  },
  {
   "cell_type": "markdown",
   "metadata": {},
   "source": [
    "### Fatores que afetaram a taxa de sobrevivência"
   ]
  },
  {
   "cell_type": "code",
   "execution_count": 217,
   "metadata": {},
   "outputs": [
    {
     "data": {
      "image/png": "[encoded data removed]",
      "text/plain": [
       "<Figure size 1296x360 with 1 Axes>"
      ]
     },
     "metadata": {},
     "output_type": "display_data"
    }
   ],
   "source": [
    "# Distribuição por tipo da passagem\n",
    "plt.figure(figsize=(18,5))\n",
    "sns.countplot(x='pclass', hue='survived', data=df)\n",
    "plt.xlabel('Classe da passagem')\n",
    "plt.ylabel('Contagem de sobreviventes')\n",
    "plt.title('Sobrevivência por classe', fontweight='bold')\n",
    "plt.legend(title='Sobreviveu', labels=['Yes','No'])\n",
    "plt.grid()\n",
    "\n",
    "plt.show()"
   ]
  },
  {
   "cell_type": "markdown",
   "metadata": {},
   "source": [
    "- Observamos então que os passageiros da primeira classe tiveram a maior taxa de sobrevivência."
   ]
  },
  {
   "cell_type": "code",
   "execution_count": 218,
   "metadata": {},
   "outputs": [
    {
     "data": {
      "image/png": "[encoded data removed]",
      "text/plain": [
       "<Figure size 1296x360 with 1 Axes>"
      ]
     },
     "metadata": {},
     "output_type": "display_data"
    }
   ],
   "source": [
    "# Contagem de passageiros por cidade de embarque\n",
    "\n",
    "plt.figure(figsize=(18,5))\n",
    "sns.countplot(x='embark_town', hue='survived', data=df)\n",
    "plt.xlabel('Cidade de embarque')\n",
    "plt.ylabel('Contagem de sobreviventes')\n",
    "plt.legend(title='Sobreviveu', labels=['Yes','No'])\n",
    "plt.title('Distribuição de sobreviventes por cidade de embarque', fontweight='bold')\n",
    "plt.grid()\n",
    "\n",
    "plt.show()"
   ]
  },
  {
   "cell_type": "markdown",
   "metadata": {},
   "source": [
    "- A grande maioria dos passageiros ingressaram em Southampton.\n",
    "- Esse distribuição do grupo amostral é refletido na quantidade de sobreviventes.\n",
    "- Sendo os tripulantes de Cheerbourg das classes mais elevadas, essas pessoas tiveram a maior taxa de sobrevivência."
   ]
  },
  {
   "cell_type": "markdown",
   "metadata": {},
   "source": [
    "## 3. Insights"
   ]
  },
  {
   "cell_type": "markdown",
   "metadata": {},
   "source": [
    "- Já que existem muitos dados faltantes em relação a 'age' e 'deck', hipóteses se baseando nesses parâmetros se tornam pouco eficazes.\n",
    "\n",
    "- Ao analisarmos os dados no DataFrame podemos perceber uma relação entre o preço da passagem ('fare'), classe do passageiro e cidade de origem. \n",
    "\n",
    "- Os passageiros das classes mais altas tiveram maiores taxas de sobrevivência\n",
    "\n",
    "- A maior parte dos tripulantes foi a óbito."
   ]
  }
 ],
 "metadata": {
  "kernelspec": {
   "display_name": "Python 3 (ipykernel)",
   "language": "python",
   "name": "python3"
  },
  "language_info": {
   "codemirror_mode": {
    "name": "ipython",
    "version": 3
   },
   "file_extension": ".py",
   "mimetype": "text/x-python",
   "name": "python",
   "nbconvert_exporter": "python",
   "pygments_lexer": "ipython3",
   "version": "3.10.12"
  },
  "vscode": {
   "interpreter": {
    "hash": "eb3c3305d8b111f0102f4f519c5f17abd113fe74db6752c355e994a9008815ef"
   }
  }
 },
 "nbformat": 4,
 "nbformat_minor": 4
}
